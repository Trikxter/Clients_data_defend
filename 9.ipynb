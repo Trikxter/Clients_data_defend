{
 "cells": [
  {
   "cell_type": "markdown",
   "metadata": {
    "toc": true
   },
   "source": [
    "<h1>Содержание<span class=\"tocSkip\"></span></h1>\n",
    "<div class=\"toc\"><ul class=\"toc-item\"><li><span><a href=\"#Загрузка-данных\" data-toc-modified-id=\"Загрузка-данных-1\"><span class=\"toc-item-num\">1&nbsp;&nbsp;</span>Загрузка данных</a></span></li><li><span><a href=\"#Умножение-матриц\" data-toc-modified-id=\"Умножение-матриц-2\"><span class=\"toc-item-num\">2&nbsp;&nbsp;</span>Умножение матриц</a></span></li><li><span><a href=\"#Алгоритм-преобразования\" data-toc-modified-id=\"Алгоритм-преобразования-3\"><span class=\"toc-item-num\">3&nbsp;&nbsp;</span>Алгоритм преобразования</a></span></li><li><span><a href=\"#Проверка-алгоритма\" data-toc-modified-id=\"Проверка-алгоритма-4\"><span class=\"toc-item-num\">4&nbsp;&nbsp;</span>Проверка алгоритма</a></span></li><li><span><a href=\"#Чек-лист-проверки\" data-toc-modified-id=\"Чек-лист-проверки-5\"><span class=\"toc-item-num\">5&nbsp;&nbsp;</span>Чек-лист проверки</a></span></li></ul></div>"
   ]
  },
  {
   "cell_type": "markdown",
   "metadata": {},
   "source": [
    "# Защита персональных данных клиентов"
   ]
  },
  {
   "cell_type": "markdown",
   "metadata": {},
   "source": [
    "Вам нужно защитить данные клиентов страховой компании «Хоть потоп». Разработайте такой метод преобразования данных, чтобы по ним было сложно восстановить персональную информацию. Обоснуйте корректность его работы.\n",
    "\n",
    "Нужно защитить данные, чтобы при преобразовании качество моделей машинного обучения не ухудшилось. Подбирать наилучшую модель не требуется."
   ]
  },
  {
   "cell_type": "markdown",
   "metadata": {},
   "source": [
    "# Описание данных\n",
    "Набор данных находится в файле /datasets/insurance.csv.\n",
    "\n",
    "**Признаки**: пол, возраст и зарплата застрахованного, количество членов его семьи.\n",
    "\n",
    "**Целевой признак**: количество страховых выплат клиенту за последние 5 лет."
   ]
  },
  {
   "cell_type": "markdown",
   "metadata": {},
   "source": [
    "## Загрузка данных"
   ]
  },
  {
   "cell_type": "markdown",
   "metadata": {},
   "source": [
    "Импортируем необходимые нам библиотеки"
   ]
  },
  {
   "cell_type": "code",
   "execution_count": 1,
   "metadata": {},
   "outputs": [],
   "source": [
    "import pandas as pd\n",
    "import numpy as np\n",
    "from sklearn.metrics import r2_score"
   ]
  },
  {
   "cell_type": "markdown",
   "metadata": {},
   "source": [
    "Прочитаем наш датасет"
   ]
  },
  {
   "cell_type": "code",
   "execution_count": 2,
   "metadata": {},
   "outputs": [],
   "source": [
    "data = pd.read_csv('/datasets/insurance.csv')"
   ]
  },
  {
   "cell_type": "code",
   "execution_count": 3,
   "metadata": {},
   "outputs": [
    {
     "data": {
      "text/html": [
       "<div>\n",
       "<style scoped>\n",
       "    .dataframe tbody tr th:only-of-type {\n",
       "        vertical-align: middle;\n",
       "    }\n",
       "\n",
       "    .dataframe tbody tr th {\n",
       "        vertical-align: top;\n",
       "    }\n",
       "\n",
       "    .dataframe thead th {\n",
       "        text-align: right;\n",
       "    }\n",
       "</style>\n",
       "<table border=\"1\" class=\"dataframe\">\n",
       "  <thead>\n",
       "    <tr style=\"text-align: right;\">\n",
       "      <th></th>\n",
       "      <th>Пол</th>\n",
       "      <th>Возраст</th>\n",
       "      <th>Зарплата</th>\n",
       "      <th>Члены семьи</th>\n",
       "      <th>Страховые выплаты</th>\n",
       "    </tr>\n",
       "  </thead>\n",
       "  <tbody>\n",
       "    <tr>\n",
       "      <td>0</td>\n",
       "      <td>1</td>\n",
       "      <td>41.0</td>\n",
       "      <td>49600.0</td>\n",
       "      <td>1</td>\n",
       "      <td>0</td>\n",
       "    </tr>\n",
       "    <tr>\n",
       "      <td>1</td>\n",
       "      <td>0</td>\n",
       "      <td>46.0</td>\n",
       "      <td>38000.0</td>\n",
       "      <td>1</td>\n",
       "      <td>1</td>\n",
       "    </tr>\n",
       "    <tr>\n",
       "      <td>2</td>\n",
       "      <td>0</td>\n",
       "      <td>29.0</td>\n",
       "      <td>21000.0</td>\n",
       "      <td>0</td>\n",
       "      <td>0</td>\n",
       "    </tr>\n",
       "    <tr>\n",
       "      <td>3</td>\n",
       "      <td>0</td>\n",
       "      <td>21.0</td>\n",
       "      <td>41700.0</td>\n",
       "      <td>2</td>\n",
       "      <td>0</td>\n",
       "    </tr>\n",
       "    <tr>\n",
       "      <td>4</td>\n",
       "      <td>1</td>\n",
       "      <td>28.0</td>\n",
       "      <td>26100.0</td>\n",
       "      <td>0</td>\n",
       "      <td>0</td>\n",
       "    </tr>\n",
       "    <tr>\n",
       "      <td>5</td>\n",
       "      <td>1</td>\n",
       "      <td>43.0</td>\n",
       "      <td>41000.0</td>\n",
       "      <td>2</td>\n",
       "      <td>1</td>\n",
       "    </tr>\n",
       "    <tr>\n",
       "      <td>6</td>\n",
       "      <td>1</td>\n",
       "      <td>39.0</td>\n",
       "      <td>39700.0</td>\n",
       "      <td>2</td>\n",
       "      <td>0</td>\n",
       "    </tr>\n",
       "    <tr>\n",
       "      <td>7</td>\n",
       "      <td>1</td>\n",
       "      <td>25.0</td>\n",
       "      <td>38600.0</td>\n",
       "      <td>4</td>\n",
       "      <td>0</td>\n",
       "    </tr>\n",
       "    <tr>\n",
       "      <td>8</td>\n",
       "      <td>1</td>\n",
       "      <td>36.0</td>\n",
       "      <td>49700.0</td>\n",
       "      <td>1</td>\n",
       "      <td>0</td>\n",
       "    </tr>\n",
       "    <tr>\n",
       "      <td>9</td>\n",
       "      <td>1</td>\n",
       "      <td>32.0</td>\n",
       "      <td>51700.0</td>\n",
       "      <td>1</td>\n",
       "      <td>0</td>\n",
       "    </tr>\n",
       "  </tbody>\n",
       "</table>\n",
       "</div>"
      ],
      "text/plain": [
       "   Пол  Возраст  Зарплата  Члены семьи  Страховые выплаты\n",
       "0    1     41.0   49600.0            1                  0\n",
       "1    0     46.0   38000.0            1                  1\n",
       "2    0     29.0   21000.0            0                  0\n",
       "3    0     21.0   41700.0            2                  0\n",
       "4    1     28.0   26100.0            0                  0\n",
       "5    1     43.0   41000.0            2                  1\n",
       "6    1     39.0   39700.0            2                  0\n",
       "7    1     25.0   38600.0            4                  0\n",
       "8    1     36.0   49700.0            1                  0\n",
       "9    1     32.0   51700.0            1                  0"
      ]
     },
     "execution_count": 3,
     "metadata": {},
     "output_type": "execute_result"
    }
   ],
   "source": [
    "data.head(10)"
   ]
  },
  {
   "cell_type": "code",
   "execution_count": 4,
   "metadata": {},
   "outputs": [
    {
     "name": "stdout",
     "output_type": "stream",
     "text": [
      "<class 'pandas.core.frame.DataFrame'>\n",
      "RangeIndex: 5000 entries, 0 to 4999\n",
      "Data columns (total 5 columns):\n",
      "Пол                  5000 non-null int64\n",
      "Возраст              5000 non-null float64\n",
      "Зарплата             5000 non-null float64\n",
      "Члены семьи          5000 non-null int64\n",
      "Страховые выплаты    5000 non-null int64\n",
      "dtypes: float64(2), int64(3)\n",
      "memory usage: 195.4 KB\n"
     ]
    }
   ],
   "source": [
    "data.info()"
   ]
  },
  {
   "cell_type": "code",
   "execution_count": 5,
   "metadata": {},
   "outputs": [
    {
     "data": {
      "text/plain": [
       "Пол                  0\n",
       "Возраст              0\n",
       "Зарплата             0\n",
       "Члены семьи          0\n",
       "Страховые выплаты    0\n",
       "dtype: int64"
      ]
     },
     "execution_count": 5,
     "metadata": {},
     "output_type": "execute_result"
    }
   ],
   "source": [
    "data.isnull().sum()"
   ]
  },
  {
   "cell_type": "markdown",
   "metadata": {},
   "source": [
    "Все поля в таблице заполнены, переходим к следующему пунтку"
   ]
  },
  {
   "cell_type": "markdown",
   "metadata": {},
   "source": [
    "## Умножение матриц\n",
    "\n",
    "В этом задании вы можете записывать формулы в *Jupyter Notebook.*\n",
    "\n",
    "Чтобы записать формулу внутри текста, окружите её символами доллара \\\\$; если снаружи —  двойными символами \\\\$\\\\$. Эти формулы записываются на языке вёрстки *LaTeX.* \n",
    "\n",
    "Для примера мы записали формулы линейной регрессии. Можете их скопировать и отредактировать, чтобы решить задачу.\n",
    "\n",
    "Работать в *LaTeX* необязательно."
   ]
  },
  {
   "cell_type": "markdown",
   "metadata": {},
   "source": [
    "Обозначения:\n",
    "\n",
    "- $X$ — матрица признаков (нулевой столбец состоит из единиц)\n",
    "\n",
    "- $y$ — вектор целевого признака\n",
    "\n",
    "- $P$ — матрица, на которую умножаются признаки\n",
    "\n",
    "- $w$ — вектор весов линейной регрессии (нулевой элемент равен сдвигу)"
   ]
  },
  {
   "cell_type": "markdown",
   "metadata": {},
   "source": [
    "Предсказания:\n",
    "\n",
    "$$\n",
    "a = Xw\n",
    "$$\n",
    "\n",
    "Задача обучения:\n",
    "\n",
    "$$\n",
    "w = \\arg\\min_w MSE(Xw, y)\n",
    "$$\n",
    "\n",
    "Формула обучения:\n",
    "\n",
    "$$\n",
    "w = (X^T X)^{-1} X^T y\n",
    "$$"
   ]
  },
  {
   "cell_type": "markdown",
   "metadata": {},
   "source": [
    "**Ответ:** Качество линейной регрессии не изменится\n",
    "\n",
    "**Обоснование:** Вектор предсказаний $a$ получаем из формулы:\n",
    "$$\n",
    "a = Xw + w0\n",
    "$$\n",
    "Значит, наш изначальный вектор предсказаний выглядит так:\n",
    "$$\n",
    "a = X(X^T X)^{-1} X^T y\n",
    "$$\n",
    "\n",
    "Домножая на квадратную матрицу $P$ размерностью $4*4$ (потому что искомая матрица размерностью $5000*4$), получаем :\n",
    "\n",
    "$$\n",
    "an = XP((XP)^T XP)^{-1} (XP)^T y\n",
    "$$\n",
    "\n",
    "Преобразуем это выражение:\n",
    "\n",
    "$$\n",
    "an = XP(P^T X^T XP)^{-1} P^TX^T y\n",
    "$$\n",
    "$$\n",
    "an = XPP^{-1}(X^T X)^{-1}(P^T)^{-1} P^TX^T y\n",
    "$$\n",
    "                        (потому что матрица X^TX квадратная размерностью $5000*5000$)\n",
    "$$\n",
    "an = XE(X^T X)^{-1}EX^T y  \n",
    "$$\n",
    "$$\n",
    "an = X(X^T X)^{-1}X^T y \n",
    "$$\n",
    "Видим, что матрица $an$ совпадает с матрицей $a$"
   ]
  },
  {
   "cell_type": "markdown",
   "metadata": {},
   "source": [
    "## Алгоритм преобразования"
   ]
  },
  {
   "cell_type": "markdown",
   "metadata": {},
   "source": [
    "**Алгоритм**\n",
    "Новый вектор весов линейной регрессии $w$ равен \n",
    "$$\n",
    "wn P^{-1} = w\n",
    "$$\n"
   ]
  },
  {
   "cell_type": "markdown",
   "metadata": {},
   "source": [
    "**Обоснование**\n",
    "\n",
    "Наш изначальный вектор весов был равен:\n",
    "$$\n",
    "w = (X^T X)^{-1} X^T y\n",
    "$$\n",
    "Найдём, чему равен новый вектор весов $wn$:\n",
    "$$\n",
    "wn = ((XP)^T XP)^{-1} (XP)^T y\n",
    "$$\n",
    "$$\n",
    "wn = (P^TX^TXP)^{-1} P^TX^T y\n",
    "$$\n",
    "$$\n",
    "wn = P^{-1}(X^TX)^{-1}(P^T)^{-1}P^TX^T y\n",
    "$$\n",
    "$$\n",
    "wn = P^{-1}(X^TX)^{-1}EX^T y\n",
    "$$\n",
    "Видим, что посередине \"спрятался\" наш изначальный вектор весов $w$\n",
    "$$\n",
    "wn = P^{-1}w\n",
    "$$"
   ]
  },
  {
   "cell_type": "markdown",
   "metadata": {},
   "source": [
    "## Проверка алгоритма"
   ]
  },
  {
   "cell_type": "markdown",
   "metadata": {},
   "source": [
    "Проверим наш алгорим на модели. \n",
    "Сначала посчитаем значение R-2 метрики для искомой модели"
   ]
  },
  {
   "cell_type": "code",
   "execution_count": 6,
   "metadata": {},
   "outputs": [
    {
     "name": "stdout",
     "output_type": "stream",
     "text": [
      "0.42494550286668\n"
     ]
    }
   ],
   "source": [
    "features = data.drop('Страховые выплаты', axis=1)\n",
    "target = data['Страховые выплаты']\n",
    "\n",
    "class LinearRegression:\n",
    "    def fit(self, train_features, train_target):\n",
    "        X = np.concatenate((np.ones((train_features.shape[0], 1)), train_features), axis=1)\n",
    "        y = train_target\n",
    "        w = np.linalg.inv(X.T.dot(X)).dot(X.T).dot(y)\n",
    "        self.w = w[1:]\n",
    "        self.w0 = w[0]\n",
    "\n",
    "    def predict(self, test_features):\n",
    "        return test_features.dot(self.w) + self.w0\n",
    "    \n",
    "model = LinearRegression()\n",
    "model.fit(features, target)\n",
    "predictions = model.predict(features)\n",
    "print(r2_score(target, predictions))"
   ]
  },
  {
   "cell_type": "markdown",
   "metadata": {},
   "source": [
    "Теперь для модели после преобразования. Сначала напишем функцию для рандомизации квадратной матрицы."
   ]
  },
  {
   "cell_type": "code",
   "execution_count": 7,
   "metadata": {},
   "outputs": [
    {
     "name": "stdout",
     "output_type": "stream",
     "text": [
      "0.4249455028666327\n"
     ]
    }
   ],
   "source": [
    "def modify_X(X):\n",
    "    P = np.random.randn(X.shape[1],X.shape[1])\n",
    "    inv = np.linalg.inv(P)\n",
    "#    wnew = np.linalg.inv((X @ P).T.dot(X @ P)).dot((X @ P).T).dot(y)\n",
    "    return X @ P\n",
    "features_m = modify_X(features)                      \n",
    "model = LinearRegression()\n",
    "model.fit(features_m, target)\n",
    "predictions = model.predict(features_m)  \n",
    "print(r2_score(target, predictions))    "
   ]
  },
  {
   "cell_type": "markdown",
   "metadata": {},
   "source": [
    "**Вывод** : Мы убедились в том, что метрики весов совпадают "
   ]
  },
  {
   "cell_type": "markdown",
   "metadata": {},
   "source": [
    "## Чек-лист проверки"
   ]
  },
  {
   "cell_type": "markdown",
   "metadata": {},
   "source": [
    "Поставьте 'x' в выполненных пунктах. Далее нажмите Shift+Enter."
   ]
  },
  {
   "cell_type": "markdown",
   "metadata": {},
   "source": [
    "- [x]  Jupyter Notebook открыт\n",
    "- [x]  Весь код выполняется без ошибок\n",
    "- [x]  Ячейки с кодом расположены в порядке исполнения\n",
    "- [x]  Выполнен шаг 1: данные загружены\n",
    "- [x]  Выполнен шаг 2: получен ответ на вопрос об умножении матриц\n",
    "    - [x]  Указан правильный вариант ответа\n",
    "    - [x]  Вариант обоснован\n",
    "- [x]  Выполнен шаг 3: предложен алгоритм преобразования\n",
    "    - [x]  Алгоритм описан\n",
    "    - [x]  Алгоритм обоснован\n",
    "- [x]  Выполнен шаг 4: алгоритм проверен\n",
    "    - [x]  Алгоритм реализован\n",
    "    - [x]  Проведено сравнение качества моделей до и после преобразования"
   ]
  }
 ],
 "metadata": {
  "ExecuteTimeLog": [
   {
    "duration": 748,
    "start_time": "2021-08-28T04:40:25.140Z"
   },
   {
    "duration": 20,
    "start_time": "2021-08-28T04:40:28.204Z"
   },
   {
    "duration": 22,
    "start_time": "2021-08-28T04:40:35.462Z"
   },
   {
    "duration": 9,
    "start_time": "2021-08-28T04:42:06.063Z"
   },
   {
    "duration": 392,
    "start_time": "2021-08-28T04:42:22.549Z"
   },
   {
    "duration": 8,
    "start_time": "2021-08-28T04:42:31.194Z"
   },
   {
    "duration": 543,
    "start_time": "2021-08-28T06:00:17.417Z"
   },
   {
    "duration": 329,
    "start_time": "2021-08-28T06:01:22.745Z"
   },
   {
    "duration": 42,
    "start_time": "2021-08-28T06:02:52.540Z"
   },
   {
    "duration": 88,
    "start_time": "2021-08-28T06:12:22.072Z"
   },
   {
    "duration": 121,
    "start_time": "2021-08-28T06:14:10.678Z"
   },
   {
    "duration": 97,
    "start_time": "2021-08-28T06:14:25.010Z"
   },
   {
    "duration": 103,
    "start_time": "2021-08-28T06:14:31.192Z"
   },
   {
    "duration": 93,
    "start_time": "2021-08-28T06:14:49.638Z"
   },
   {
    "duration": 88,
    "start_time": "2021-08-28T06:21:44.699Z"
   },
   {
    "duration": 4,
    "start_time": "2021-08-28T06:22:03.394Z"
   },
   {
    "duration": 301,
    "start_time": "2021-08-28T06:23:49.933Z"
   },
   {
    "duration": 7,
    "start_time": "2021-08-28T06:24:15.830Z"
   },
   {
    "duration": 6,
    "start_time": "2021-08-28T06:26:22.672Z"
   },
   {
    "duration": 1002,
    "start_time": "2021-08-28T14:47:46.905Z"
   },
   {
    "duration": 17,
    "start_time": "2021-08-28T14:47:47.909Z"
   },
   {
    "duration": 13,
    "start_time": "2021-08-28T14:47:47.928Z"
   },
   {
    "duration": 6,
    "start_time": "2021-08-28T14:47:47.943Z"
   },
   {
    "duration": 6,
    "start_time": "2021-08-28T14:47:47.950Z"
   },
   {
    "duration": 136,
    "start_time": "2021-08-28T14:47:47.958Z"
   },
   {
    "duration": 5,
    "start_time": "2021-08-28T14:47:48.098Z"
   },
   {
    "duration": 1444,
    "start_time": "2021-08-28T22:00:03.302Z"
   },
   {
    "duration": 22,
    "start_time": "2021-08-28T22:00:04.748Z"
   },
   {
    "duration": 23,
    "start_time": "2021-08-28T22:00:04.773Z"
   },
   {
    "duration": 18,
    "start_time": "2021-08-28T22:00:04.799Z"
   },
   {
    "duration": 10,
    "start_time": "2021-08-28T22:00:04.821Z"
   },
   {
    "duration": 103,
    "start_time": "2021-08-28T22:00:04.836Z"
   },
   {
    "duration": 577,
    "start_time": "2021-08-28T22:00:04.944Z"
   },
   {
    "duration": 82,
    "start_time": "2021-08-28T22:10:08.137Z"
   },
   {
    "duration": 1306,
    "start_time": "2021-08-29T10:59:29.842Z"
   },
   {
    "duration": 22,
    "start_time": "2021-08-29T10:59:31.150Z"
   },
   {
    "duration": 24,
    "start_time": "2021-08-29T10:59:31.175Z"
   },
   {
    "duration": 19,
    "start_time": "2021-08-29T10:59:31.201Z"
   },
   {
    "duration": 29,
    "start_time": "2021-08-29T10:59:31.223Z"
   },
   {
    "duration": 21,
    "start_time": "2021-08-29T10:59:31.254Z"
   },
   {
    "duration": 106,
    "start_time": "2021-08-29T10:59:31.357Z"
   },
   {
    "duration": 645,
    "start_time": "2021-08-29T11:01:38.813Z"
   },
   {
    "duration": 87,
    "start_time": "2021-08-29T21:19:46.700Z"
   },
   {
    "duration": 1291,
    "start_time": "2021-08-29T21:20:02.247Z"
   },
   {
    "duration": 19,
    "start_time": "2021-08-29T21:20:03.540Z"
   },
   {
    "duration": 22,
    "start_time": "2021-08-29T21:20:03.562Z"
   },
   {
    "duration": 9,
    "start_time": "2021-08-29T21:20:03.587Z"
   },
   {
    "duration": 6,
    "start_time": "2021-08-29T21:20:03.599Z"
   },
   {
    "duration": 155,
    "start_time": "2021-08-29T21:20:03.608Z"
   },
   {
    "duration": 95,
    "start_time": "2021-08-29T21:20:03.772Z"
   },
   {
    "duration": 88,
    "start_time": "2021-08-29T21:20:26.557Z"
   },
   {
    "duration": 498,
    "start_time": "2021-08-29T21:20:39.959Z"
   },
   {
    "duration": 255,
    "start_time": "2021-08-29T21:26:37.156Z"
   },
   {
    "duration": 458,
    "start_time": "2021-08-29T21:29:15.841Z"
   },
   {
    "duration": 408,
    "start_time": "2021-08-29T21:33:32.935Z"
   },
   {
    "duration": 435,
    "start_time": "2021-08-29T21:35:35.181Z"
   },
   {
    "duration": 454,
    "start_time": "2021-08-29T21:36:03.893Z"
   },
   {
    "duration": 403,
    "start_time": "2021-08-29T21:37:15.029Z"
   },
   {
    "duration": 23092,
    "start_time": "2021-08-29T21:54:52.257Z"
   },
   {
    "duration": 405,
    "start_time": "2021-08-29T21:56:48.137Z"
   },
   {
    "duration": 395,
    "start_time": "2021-08-29T21:57:15.799Z"
   },
   {
    "duration": 441,
    "start_time": "2021-08-29T21:57:38.717Z"
   },
   {
    "duration": 1266,
    "start_time": "2021-08-30T06:57:52.078Z"
   },
   {
    "duration": 54,
    "start_time": "2021-08-30T06:57:53.346Z"
   },
   {
    "duration": 21,
    "start_time": "2021-08-30T06:57:53.403Z"
   },
   {
    "duration": 9,
    "start_time": "2021-08-30T06:57:53.427Z"
   },
   {
    "duration": 11,
    "start_time": "2021-08-30T06:57:53.438Z"
   },
   {
    "duration": 21,
    "start_time": "2021-08-30T06:57:53.451Z"
   },
   {
    "duration": 813,
    "start_time": "2021-08-30T06:57:53.558Z"
   },
   {
    "duration": 259,
    "start_time": "2021-08-30T08:04:46.943Z"
   },
   {
    "duration": 1261,
    "start_time": "2021-08-30T08:04:55.577Z"
   },
   {
    "duration": 20,
    "start_time": "2021-08-30T08:04:56.841Z"
   },
   {
    "duration": 31,
    "start_time": "2021-08-30T08:04:56.865Z"
   },
   {
    "duration": 11,
    "start_time": "2021-08-30T08:04:56.900Z"
   },
   {
    "duration": 27,
    "start_time": "2021-08-30T08:04:56.914Z"
   },
   {
    "duration": 28,
    "start_time": "2021-08-30T08:04:56.944Z"
   },
   {
    "duration": 192,
    "start_time": "2021-08-30T08:04:56.975Z"
   },
   {
    "duration": 12,
    "start_time": "2021-08-30T08:05:45.115Z"
   },
   {
    "duration": 12,
    "start_time": "2021-08-30T08:05:52.282Z"
   },
   {
    "duration": 10,
    "start_time": "2021-08-30T08:05:55.184Z"
   },
   {
    "duration": 9,
    "start_time": "2021-08-30T08:06:06.741Z"
   },
   {
    "duration": 1262,
    "start_time": "2021-08-30T17:36:10.684Z"
   },
   {
    "duration": 20,
    "start_time": "2021-08-30T17:36:11.948Z"
   },
   {
    "duration": 25,
    "start_time": "2021-08-30T17:36:11.971Z"
   },
   {
    "duration": 20,
    "start_time": "2021-08-30T17:36:11.999Z"
   },
   {
    "duration": 13,
    "start_time": "2021-08-30T17:36:12.022Z"
   },
   {
    "duration": 32,
    "start_time": "2021-08-30T17:36:12.037Z"
   },
   {
    "duration": 96,
    "start_time": "2021-08-30T17:36:12.071Z"
   },
   {
    "duration": 11,
    "start_time": "2021-08-30T17:37:20.162Z"
   },
   {
    "duration": 11,
    "start_time": "2021-08-30T17:37:30.561Z"
   },
   {
    "duration": 274,
    "start_time": "2021-08-30T22:58:21.186Z"
   },
   {
    "duration": 980,
    "start_time": "2021-08-30T22:58:29.624Z"
   },
   {
    "duration": 18,
    "start_time": "2021-08-30T22:58:30.605Z"
   },
   {
    "duration": 16,
    "start_time": "2021-08-30T22:58:30.625Z"
   },
   {
    "duration": 16,
    "start_time": "2021-08-30T22:58:30.644Z"
   },
   {
    "duration": 26,
    "start_time": "2021-08-30T22:58:30.662Z"
   },
   {
    "duration": 26,
    "start_time": "2021-08-30T22:58:30.690Z"
   },
   {
    "duration": 103,
    "start_time": "2021-08-30T22:58:30.793Z"
   }
  ],
  "kernelspec": {
   "display_name": "Python 3 (ipykernel)",
   "language": "python",
   "name": "python3"
  },
  "language_info": {
   "codemirror_mode": {
    "name": "ipython",
    "version": 3
   },
   "file_extension": ".py",
   "mimetype": "text/x-python",
   "name": "python",
   "nbconvert_exporter": "python",
   "pygments_lexer": "ipython3",
   "version": "3.9.5"
  },
  "toc": {
   "base_numbering": 1,
   "nav_menu": {},
   "number_sections": true,
   "sideBar": true,
   "skip_h1_title": true,
   "title_cell": "Содержание",
   "title_sidebar": "Contents",
   "toc_cell": true,
   "toc_position": {},
   "toc_section_display": true,
   "toc_window_display": false
  }
 },
 "nbformat": 4,
 "nbformat_minor": 2
}
